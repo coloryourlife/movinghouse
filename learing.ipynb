{
 "cells": [
  {
   "cell_type": "code",
   "execution_count": 3,
   "metadata": {},
   "outputs": [
    {
     "name": "stdout",
     "output_type": "stream",
     "text": [
      "Collecting torch\n",
      "\u001b[?25l  Downloading https://files.pythonhosted.org/packages/58/26/6b86448bda61c1ce463ad2c962641a933113f4496de16085df41217cdccc/torch-1.6.0-cp37-none-macosx_10_9_x86_64.whl (97.4MB)\n",
      "\u001b[K     |████████████████████████████████| 97.4MB 197kB/s  eta 0:00:01     |███████████████▏                | 46.2MB 31.2MB/s eta 0:00:02     |████████████████████▎           | 61.7MB 35.8MB/s eta 0:00:01     |██████████████████████████▉     | 81.5MB 35.8MB/s eta 0:00:01     |███████████████████████████▋    | 84.2MB 10.7MB/s eta 0:00:02     |█████████████████████████████   | 88.3MB 10.7MB/s eta 0:00:01\n",
      "\u001b[?25hCollecting torchvision\n",
      "\u001b[?25l  Downloading https://files.pythonhosted.org/packages/72/68/b82d188d09a40e681e8df5eeb91f71bb1facdc5c8a61a905350fa398a4a4/torchvision-0.7.0-cp37-cp37m-macosx_10_9_x86_64.whl (387kB)\n",
      "\u001b[K     |████████████████████████████████| 389kB 35.0MB/s eta 0:00:01\n",
      "\u001b[?25hRequirement already satisfied: numpy in /Users/JeHongHwang/opt/anaconda3/lib/python3.7/site-packages (from torch) (1.17.2)\n",
      "Requirement already satisfied: future in /Users/JeHongHwang/opt/anaconda3/lib/python3.7/site-packages (from torch) (0.17.1)\n",
      "Requirement already satisfied: pillow>=4.1.1 in /Users/JeHongHwang/opt/anaconda3/lib/python3.7/site-packages (from torchvision) (6.2.0)\n",
      "Installing collected packages: torch, torchvision\n",
      "Successfully installed torch-1.6.0 torchvision-0.7.0\n",
      "Note: you may need to restart the kernel to use updated packages.\n"
     ]
    }
   ],
   "source": [
    "pip install torch torchvision"
   ]
  },
  {
   "cell_type": "code",
   "execution_count": 16,
   "metadata": {},
   "outputs": [
    {
     "name": "stdout",
     "output_type": "stream",
     "text": [
      "tensor([[0.7576, 0.2793, 0.4031],\n",
      "        [0.7347, 0.0293, 0.7999],\n",
      "        [0.3971, 0.7544, 0.5695],\n",
      "        [0.4388, 0.6387, 0.5247],\n",
      "        [0.6826, 0.3051, 0.4635]])\n"
     ]
    }
   ],
   "source": [
    "from __future__ import print_function\n",
    "import torch\n",
    "x = torch.rand(5, 3)\n",
    "print(x)"
   ]
  },
  {
   "cell_type": "code",
   "execution_count": 17,
   "metadata": {},
   "outputs": [],
   "source": [
    "import torch\n",
    "import torch.nn as nn\n",
    "import torch.nn.functional as F\n",
    "import torch.optim as optim\n",
    "import pandas as pd"
   ]
  },
  {
   "cell_type": "code",
   "execution_count": 7,
   "metadata": {},
   "outputs": [
    {
     "data": {
      "text/plain": [
       "<torch._C.Generator at 0x1044faab0>"
      ]
     },
     "execution_count": 7,
     "metadata": {},
     "output_type": "execute_result"
    }
   ],
   "source": [
    "torch.manual_seed(1)"
   ]
  },
  {
   "cell_type": "code",
   "execution_count": 8,
   "metadata": {},
   "outputs": [],
   "source": [
    "x_data = [[1,2],[2,3],[3,1],[4,3],[5,3],[6,2]]\n",
    "y_data = [[0],[0],[0],[1],[1],[1]]\n",
    "x_train = torch.FloatTensor(x_data)\n",
    "y_train = torch.FloatTensor(y_data)"
   ]
  },
  {
   "cell_type": "code",
   "execution_count": 11,
   "metadata": {},
   "outputs": [],
   "source": [
    "W = torch.zeros((2,1), requires_grad = True)\n",
    "b = torch.zeros(1, requires_grad = True)"
   ]
  },
  {
   "cell_type": "code",
   "execution_count": 12,
   "metadata": {},
   "outputs": [],
   "source": [
    "hypothesis = 1 / (1 + torch.exp(-(x_train.matmul(W)+b)))"
   ]
  },
  {
   "cell_type": "code",
   "execution_count": 13,
   "metadata": {},
   "outputs": [
    {
     "name": "stdout",
     "output_type": "stream",
     "text": [
      "tensor([[0.5000],\n",
      "        [0.5000],\n",
      "        [0.5000],\n",
      "        [0.5000],\n",
      "        [0.5000],\n",
      "        [0.5000]], grad_fn=<MulBackward0>)\n"
     ]
    }
   ],
   "source": [
    "print(hypothesis)"
   ]
  },
  {
   "cell_type": "code",
   "execution_count": 14,
   "metadata": {},
   "outputs": [],
   "source": [
    "hypothesis = torch.sigmoid(x_train.matmul(W) + b)"
   ]
  },
  {
   "cell_type": "code",
   "execution_count": 15,
   "metadata": {},
   "outputs": [
    {
     "name": "stdout",
     "output_type": "stream",
     "text": [
      "tensor([[0.5000],\n",
      "        [0.5000],\n",
      "        [0.5000],\n",
      "        [0.5000],\n",
      "        [0.5000],\n",
      "        [0.5000]], grad_fn=<SigmoidBackward>)\n"
     ]
    }
   ],
   "source": [
    "print(hypothesis)"
   ]
  },
  {
   "cell_type": "code",
   "execution_count": 164,
   "metadata": {},
   "outputs": [],
   "source": [
    "output_set = pd.read_csv(\"fraction3.csv\",encoding=\"CP949\")\n",
    "input_set = pd.read_csv(\"data_regular.csv\", encoding=\"UTF-8\")"
   ]
  },
  {
   "cell_type": "code",
   "execution_count": 108,
   "metadata": {},
   "outputs": [],
   "source": [
    "datas = []\n",
    "data = []"
   ]
  },
  {
   "cell_type": "code",
   "execution_count": 159,
   "metadata": {},
   "outputs": [],
   "source": [
    "datas = []\n",
    "data = []\n",
    "for i in range(0,424):\n",
    "    data.clear()\n",
    "    a = input_set.loc[i].values\n",
    "    b = a[4:]\n",
    "    for item in b:\n",
    "        data.append(item)\n",
    "    datas.append(data)\n",
    "    "
   ]
  },
  {
   "cell_type": "code",
   "execution_count": 161,
   "metadata": {
    "scrolled": true
   },
   "outputs": [],
   "source": [
    "x_train = torch.FloatTensor(datas)"
   ]
  },
  {
   "cell_type": "code",
   "execution_count": 165,
   "metadata": {},
   "outputs": [
    {
     "data": {
      "text/plain": [
       "torch.Size([424, 15])"
      ]
     },
     "execution_count": 165,
     "metadata": {},
     "output_type": "execute_result"
    }
   ],
   "source": [
    "x_train.shape"
   ]
  },
  {
   "cell_type": "code",
   "execution_count": 166,
   "metadata": {},
   "outputs": [
    {
     "data": {
      "text/html": [
       "<div>\n",
       "<style scoped>\n",
       "    .dataframe tbody tr th:only-of-type {\n",
       "        vertical-align: middle;\n",
       "    }\n",
       "\n",
       "    .dataframe tbody tr th {\n",
       "        vertical-align: top;\n",
       "    }\n",
       "\n",
       "    .dataframe thead th {\n",
       "        text-align: right;\n",
       "    }\n",
       "</style>\n",
       "<table border=\"1\" class=\"dataframe\">\n",
       "  <thead>\n",
       "    <tr style=\"text-align: right;\">\n",
       "      <th></th>\n",
       "      <th>Unnamed: 0</th>\n",
       "      <th>동</th>\n",
       "      <th>0~4세</th>\n",
       "      <th>5~9세</th>\n",
       "      <th>10~14세</th>\n",
       "      <th>15~19세</th>\n",
       "      <th>20~24세</th>\n",
       "      <th>25~29세</th>\n",
       "      <th>30~34세</th>\n",
       "      <th>35~39세</th>\n",
       "      <th>...</th>\n",
       "      <th>55~59세</th>\n",
       "      <th>60~64세</th>\n",
       "      <th>65~69세</th>\n",
       "      <th>70~74세</th>\n",
       "      <th>75~79세</th>\n",
       "      <th>80~84세</th>\n",
       "      <th>85~89세</th>\n",
       "      <th>90~94세</th>\n",
       "      <th>95~99세</th>\n",
       "      <th>100세 이상+</th>\n",
       "    </tr>\n",
       "  </thead>\n",
       "  <tbody>\n",
       "    <tr>\n",
       "      <td>0</td>\n",
       "      <td>1</td>\n",
       "      <td>사직동</td>\n",
       "      <td>0.081948</td>\n",
       "      <td>0.100258</td>\n",
       "      <td>0.092634</td>\n",
       "      <td>0.081941</td>\n",
       "      <td>0.076412</td>\n",
       "      <td>0.089001</td>\n",
       "      <td>0.096661</td>\n",
       "      <td>0.096456</td>\n",
       "      <td>...</td>\n",
       "      <td>0.100094</td>\n",
       "      <td>0.099644</td>\n",
       "      <td>0.093722</td>\n",
       "      <td>0.099853</td>\n",
       "      <td>0.127221</td>\n",
       "      <td>0.161011</td>\n",
       "      <td>0.190478</td>\n",
       "      <td>0.219291</td>\n",
       "      <td>0.220192</td>\n",
       "      <td>0.289811</td>\n",
       "    </tr>\n",
       "    <tr>\n",
       "      <td>1</td>\n",
       "      <td>2</td>\n",
       "      <td>삼청동</td>\n",
       "      <td>0.019463</td>\n",
       "      <td>0.022340</td>\n",
       "      <td>0.032569</td>\n",
       "      <td>0.026396</td>\n",
       "      <td>0.023410</td>\n",
       "      <td>0.022367</td>\n",
       "      <td>0.025451</td>\n",
       "      <td>0.029455</td>\n",
       "      <td>...</td>\n",
       "      <td>0.030424</td>\n",
       "      <td>0.035667</td>\n",
       "      <td>0.036716</td>\n",
       "      <td>0.041752</td>\n",
       "      <td>0.044064</td>\n",
       "      <td>0.053128</td>\n",
       "      <td>0.067778</td>\n",
       "      <td>0.071038</td>\n",
       "      <td>0.077067</td>\n",
       "      <td>0.122026</td>\n",
       "    </tr>\n",
       "    <tr>\n",
       "      <td>2</td>\n",
       "      <td>3</td>\n",
       "      <td>부암동</td>\n",
       "      <td>0.076826</td>\n",
       "      <td>0.098896</td>\n",
       "      <td>0.117994</td>\n",
       "      <td>0.114534</td>\n",
       "      <td>0.108214</td>\n",
       "      <td>0.092632</td>\n",
       "      <td>0.090463</td>\n",
       "      <td>0.085963</td>\n",
       "      <td>...</td>\n",
       "      <td>0.105974</td>\n",
       "      <td>0.107138</td>\n",
       "      <td>0.099519</td>\n",
       "      <td>0.114693</td>\n",
       "      <td>0.116951</td>\n",
       "      <td>0.142037</td>\n",
       "      <td>0.149578</td>\n",
       "      <td>0.169874</td>\n",
       "      <td>0.242211</td>\n",
       "      <td>0.167785</td>\n",
       "    </tr>\n",
       "    <tr>\n",
       "      <td>3</td>\n",
       "      <td>4</td>\n",
       "      <td>평창동</td>\n",
       "      <td>0.170725</td>\n",
       "      <td>0.192887</td>\n",
       "      <td>0.191407</td>\n",
       "      <td>0.217592</td>\n",
       "      <td>0.178737</td>\n",
       "      <td>0.153293</td>\n",
       "      <td>0.139123</td>\n",
       "      <td>0.155746</td>\n",
       "      <td>...</td>\n",
       "      <td>0.212332</td>\n",
       "      <td>0.201786</td>\n",
       "      <td>0.195367</td>\n",
       "      <td>0.189394</td>\n",
       "      <td>0.218661</td>\n",
       "      <td>0.258052</td>\n",
       "      <td>0.328371</td>\n",
       "      <td>0.352102</td>\n",
       "      <td>0.462402</td>\n",
       "      <td>0.381330</td>\n",
       "    </tr>\n",
       "    <tr>\n",
       "      <td>4</td>\n",
       "      <td>5</td>\n",
       "      <td>무악동</td>\n",
       "      <td>0.100387</td>\n",
       "      <td>0.118784</td>\n",
       "      <td>0.129207</td>\n",
       "      <td>0.124174</td>\n",
       "      <td>0.070965</td>\n",
       "      <td>0.054689</td>\n",
       "      <td>0.055253</td>\n",
       "      <td>0.071426</td>\n",
       "      <td>...</td>\n",
       "      <td>0.087566</td>\n",
       "      <td>0.078272</td>\n",
       "      <td>0.082321</td>\n",
       "      <td>0.090044</td>\n",
       "      <td>0.097404</td>\n",
       "      <td>0.113846</td>\n",
       "      <td>0.107509</td>\n",
       "      <td>0.117367</td>\n",
       "      <td>0.121105</td>\n",
       "      <td>0.259304</td>\n",
       "    </tr>\n",
       "    <tr>\n",
       "      <td>...</td>\n",
       "      <td>...</td>\n",
       "      <td>...</td>\n",
       "      <td>...</td>\n",
       "      <td>...</td>\n",
       "      <td>...</td>\n",
       "      <td>...</td>\n",
       "      <td>...</td>\n",
       "      <td>...</td>\n",
       "      <td>...</td>\n",
       "      <td>...</td>\n",
       "      <td>...</td>\n",
       "      <td>...</td>\n",
       "      <td>...</td>\n",
       "      <td>...</td>\n",
       "      <td>...</td>\n",
       "      <td>...</td>\n",
       "      <td>...</td>\n",
       "      <td>...</td>\n",
       "      <td>...</td>\n",
       "      <td>...</td>\n",
       "      <td>...</td>\n",
       "    </tr>\n",
       "    <tr>\n",
       "      <td>419</td>\n",
       "      <td>420</td>\n",
       "      <td>둔촌1동</td>\n",
       "      <td>0.000000</td>\n",
       "      <td>0.001635</td>\n",
       "      <td>0.001335</td>\n",
       "      <td>0.000918</td>\n",
       "      <td>0.001472</td>\n",
       "      <td>0.001405</td>\n",
       "      <td>0.000527</td>\n",
       "      <td>0.002781</td>\n",
       "      <td>...</td>\n",
       "      <td>0.002173</td>\n",
       "      <td>0.003747</td>\n",
       "      <td>0.005411</td>\n",
       "      <td>0.006791</td>\n",
       "      <td>0.004307</td>\n",
       "      <td>0.003795</td>\n",
       "      <td>0.005843</td>\n",
       "      <td>0.015443</td>\n",
       "      <td>0.033029</td>\n",
       "      <td>0.122026</td>\n",
       "    </tr>\n",
       "    <tr>\n",
       "      <td>420</td>\n",
       "      <td>421</td>\n",
       "      <td>둔촌2동</td>\n",
       "      <td>0.290916</td>\n",
       "      <td>0.289876</td>\n",
       "      <td>0.265888</td>\n",
       "      <td>0.307567</td>\n",
       "      <td>0.260450</td>\n",
       "      <td>0.250375</td>\n",
       "      <td>0.263476</td>\n",
       "      <td>0.262315</td>\n",
       "      <td>...</td>\n",
       "      <td>0.301560</td>\n",
       "      <td>0.318917</td>\n",
       "      <td>0.313051</td>\n",
       "      <td>0.270384</td>\n",
       "      <td>0.220318</td>\n",
       "      <td>0.213598</td>\n",
       "      <td>0.268773</td>\n",
       "      <td>0.293418</td>\n",
       "      <td>0.220192</td>\n",
       "      <td>0.183038</td>\n",
       "    </tr>\n",
       "    <tr>\n",
       "      <td>421</td>\n",
       "      <td>422</td>\n",
       "      <td>암사1동</td>\n",
       "      <td>0.365694</td>\n",
       "      <td>0.337280</td>\n",
       "      <td>0.328355</td>\n",
       "      <td>0.354161</td>\n",
       "      <td>0.323759</td>\n",
       "      <td>0.324035</td>\n",
       "      <td>0.340224</td>\n",
       "      <td>0.382411</td>\n",
       "      <td>...</td>\n",
       "      <td>0.398586</td>\n",
       "      <td>0.397189</td>\n",
       "      <td>0.405420</td>\n",
       "      <td>0.395138</td>\n",
       "      <td>0.355821</td>\n",
       "      <td>0.333407</td>\n",
       "      <td>0.320191</td>\n",
       "      <td>0.352102</td>\n",
       "      <td>0.286249</td>\n",
       "      <td>0.366077</td>\n",
       "    </tr>\n",
       "    <tr>\n",
       "      <td>422</td>\n",
       "      <td>423</td>\n",
       "      <td>천호2동</td>\n",
       "      <td>0.346231</td>\n",
       "      <td>0.246830</td>\n",
       "      <td>0.226645</td>\n",
       "      <td>0.254546</td>\n",
       "      <td>0.276056</td>\n",
       "      <td>0.376382</td>\n",
       "      <td>0.429895</td>\n",
       "      <td>0.403143</td>\n",
       "      <td>...</td>\n",
       "      <td>0.414438</td>\n",
       "      <td>0.409263</td>\n",
       "      <td>0.400396</td>\n",
       "      <td>0.394886</td>\n",
       "      <td>0.387626</td>\n",
       "      <td>0.348045</td>\n",
       "      <td>0.286302</td>\n",
       "      <td>0.352102</td>\n",
       "      <td>0.418364</td>\n",
       "      <td>0.366077</td>\n",
       "    </tr>\n",
       "    <tr>\n",
       "      <td>423</td>\n",
       "      <td>424</td>\n",
       "      <td>길동</td>\n",
       "      <td>0.424765</td>\n",
       "      <td>0.389861</td>\n",
       "      <td>0.364928</td>\n",
       "      <td>0.411772</td>\n",
       "      <td>0.426378</td>\n",
       "      <td>0.502740</td>\n",
       "      <td>0.512841</td>\n",
       "      <td>0.484556</td>\n",
       "      <td>...</td>\n",
       "      <td>0.510057</td>\n",
       "      <td>0.558729</td>\n",
       "      <td>0.552670</td>\n",
       "      <td>0.502285</td>\n",
       "      <td>0.431359</td>\n",
       "      <td>0.378404</td>\n",
       "      <td>0.445229</td>\n",
       "      <td>0.432406</td>\n",
       "      <td>0.484421</td>\n",
       "      <td>0.350824</td>\n",
       "    </tr>\n",
       "  </tbody>\n",
       "</table>\n",
       "<p>424 rows × 23 columns</p>\n",
       "</div>"
      ],
      "text/plain": [
       "     Unnamed: 0     동      0~4세      5~9세    10~14세    15~19세    20~24세  \\\n",
       "0             1   사직동  0.081948  0.100258  0.092634  0.081941  0.076412   \n",
       "1             2   삼청동  0.019463  0.022340  0.032569  0.026396  0.023410   \n",
       "2             3   부암동  0.076826  0.098896  0.117994  0.114534  0.108214   \n",
       "3             4   평창동  0.170725  0.192887  0.191407  0.217592  0.178737   \n",
       "4             5   무악동  0.100387  0.118784  0.129207  0.124174  0.070965   \n",
       "..          ...   ...       ...       ...       ...       ...       ...   \n",
       "419         420  둔촌1동  0.000000  0.001635  0.001335  0.000918  0.001472   \n",
       "420         421  둔촌2동  0.290916  0.289876  0.265888  0.307567  0.260450   \n",
       "421         422  암사1동  0.365694  0.337280  0.328355  0.354161  0.323759   \n",
       "422         423  천호2동  0.346231  0.246830  0.226645  0.254546  0.276056   \n",
       "423         424    길동  0.424765  0.389861  0.364928  0.411772  0.426378   \n",
       "\n",
       "       25~29세    30~34세    35~39세  ...    55~59세    60~64세    65~69세  \\\n",
       "0    0.089001  0.096661  0.096456  ...  0.100094  0.099644  0.093722   \n",
       "1    0.022367  0.025451  0.029455  ...  0.030424  0.035667  0.036716   \n",
       "2    0.092632  0.090463  0.085963  ...  0.105974  0.107138  0.099519   \n",
       "3    0.153293  0.139123  0.155746  ...  0.212332  0.201786  0.195367   \n",
       "4    0.054689  0.055253  0.071426  ...  0.087566  0.078272  0.082321   \n",
       "..        ...       ...       ...  ...       ...       ...       ...   \n",
       "419  0.001405  0.000527  0.002781  ...  0.002173  0.003747  0.005411   \n",
       "420  0.250375  0.263476  0.262315  ...  0.301560  0.318917  0.313051   \n",
       "421  0.324035  0.340224  0.382411  ...  0.398586  0.397189  0.405420   \n",
       "422  0.376382  0.429895  0.403143  ...  0.414438  0.409263  0.400396   \n",
       "423  0.502740  0.512841  0.484556  ...  0.510057  0.558729  0.552670   \n",
       "\n",
       "       70~74세    75~79세    80~84세    85~89세    90~94세    95~99세  100세 이상+  \n",
       "0    0.099853  0.127221  0.161011  0.190478  0.219291  0.220192  0.289811  \n",
       "1    0.041752  0.044064  0.053128  0.067778  0.071038  0.077067  0.122026  \n",
       "2    0.114693  0.116951  0.142037  0.149578  0.169874  0.242211  0.167785  \n",
       "3    0.189394  0.218661  0.258052  0.328371  0.352102  0.462402  0.381330  \n",
       "4    0.090044  0.097404  0.113846  0.107509  0.117367  0.121105  0.259304  \n",
       "..        ...       ...       ...       ...       ...       ...       ...  \n",
       "419  0.006791  0.004307  0.003795  0.005843  0.015443  0.033029  0.122026  \n",
       "420  0.270384  0.220318  0.213598  0.268773  0.293418  0.220192  0.183038  \n",
       "421  0.395138  0.355821  0.333407  0.320191  0.352102  0.286249  0.366077  \n",
       "422  0.394886  0.387626  0.348045  0.286302  0.352102  0.418364  0.366077  \n",
       "423  0.502285  0.431359  0.378404  0.445229  0.432406  0.484421  0.350824  \n",
       "\n",
       "[424 rows x 23 columns]"
      ]
     },
     "execution_count": 166,
     "metadata": {},
     "output_type": "execute_result"
    }
   ],
   "source": []
  },
  {
   "cell_type": "code",
   "execution_count": 125,
   "metadata": {},
   "outputs": [
    {
     "data": {
      "text/plain": [
       "[[1, 2], [1, 3]]"
      ]
     },
     "execution_count": 125,
     "metadata": {},
     "output_type": "execute_result"
    }
   ],
   "source": []
  },
  {
   "cell_type": "code",
   "execution_count": null,
   "metadata": {},
   "outputs": [],
   "source": []
  },
  {
   "cell_type": "code",
   "execution_count": null,
   "metadata": {},
   "outputs": [],
   "source": []
  }
 ],
 "metadata": {
  "kernelspec": {
   "display_name": "Python 3",
   "language": "python",
   "name": "python3"
  },
  "language_info": {
   "codemirror_mode": {
    "name": "ipython",
    "version": 3
   },
   "file_extension": ".py",
   "mimetype": "text/x-python",
   "name": "python",
   "nbconvert_exporter": "python",
   "pygments_lexer": "ipython3",
   "version": "3.7.4"
  }
 },
 "nbformat": 4,
 "nbformat_minor": 2
}
